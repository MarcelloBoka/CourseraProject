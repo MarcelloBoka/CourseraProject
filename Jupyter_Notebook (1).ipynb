{
 "cells": [
  {
   "cell_type": "markdown",
   "metadata": {},
   "source": [
    "<center>\n",
    "    <img src=\"https://cf-courses-data.s3.us.cloud-object-storage.appdomain.cloud/IBMDeveloperSkillsNetwork-DS0105EN-SkillsNetwork/labs/Module2/images/SN_web_lightmode.png\" width=\"300\" alt=\"cognitiveclass.ai logo\">\n",
    "</center>\n"
   ]
  },
  {
   "cell_type": "markdown",
   "metadata": {},
   "source": [
    "# Projecto\n",
    "\n",
    "Este é um projeto destinado a explorar e analisar dados\n",
    "\n",
    "- Linguagem de programação: Python\n",
    "- Bibliotecas principais: Pandas, Matplotlib, Seaborn"
   ]
  },
  {
   "cell_type": "markdown",
   "metadata": {},
   "source": [
    "# Linguagens de Ciência de Dados\n",
    "\n",
    "Na área de ciência de dados, várias linguagens de programação são amplamente utilizadas para análise, visualização e modelagem de dados\n",
    "\n",
    "1.Python: \n",
    "2.R\n",
    "3.QL\n",
    "4.Julia\n",
    "5.Scala\n",
    "\n"
   ]
  },
  {
   "cell_type": "markdown",
   "metadata": {},
   "source": [
    "# Bibliotecas de Ciência de Dados em Python\n",
    "\n",
    "Em Python, diversas bibliotecas poderosas são amplamente utilizadas na área de ciência de dados.\n",
    "\n",
    "1.Pandas\n",
    "\n",
    "2.umPy\n",
    "\n",
    "3.Matplotlib\n",
    "\n",
    "4.Seaborn\n",
    "\n",
    "5.Scikit-learn\n",
    "\n",
    "6.TensorFlow\n",
    "\n",
    "7.PyTorch\n",
    "\n",
    "8.Statsmodels "
   ]
  },
  {
   "cell_type": "markdown",
   "metadata": {},
   "source": [
    "erramentas de Ciência de Dados\n",
    "\n",
    "| Ferramenta          | Descrição                                           |\n",
    "|---------------------|-----------------------------------------------------|\n",
    "| Jupyter Notebooks| Ambiente interativo para desenvolvimento em Python e R. Permite combinar código, texto e visualizações. |\n",
    "| RStudio          | Ambiente de desenvolvimento integrado (IDE) para R. Oferece suporte a análises estatísticas e visualizações. |\n",
    "| Tableau          | Ferramenta de visualização de dados que simplifica a criação de dashboards interativos. |\n",
    "| Apache Spark     | Framework de processamento distribuído, utilizado para análise de dados em grande escala. |\n",
    "| KNIME            | Plataforma de análise de dados visual que facilita a criação de fluxos de trabalho analíticos. |\n",
    "| TensorBoard      | Ferramenta de visualização para TensorFlow, auxiliando no monitoramento de modelos de aprendizado de máquina. |\n",
    "| Power BI         | Ferramenta da Microsoft para análise de dados e criação de dashboards interativos. |\n",
    "| D3.js            | Biblioteca JavaScript para criação de visualizações interativas e gráficos. |\n",
    "| Alteryx          | Plataforma de preparação e análise de dados que simplifica a integração e limpeza de dados. |\n",
    "\n",
    "\n"
   ]
  },
  {
   "cell_type": "markdown",
   "metadata": {},
   "source": [
    "# Exemplos de Expressões Aritméticas\n",
    "\n",
    "As expressões aritméticas envolvem operações matemáticas básicas. Aqui estão alguns exemplos:\n",
    "\n",
    "1.Adição:\n",
    "2 + 2 = 4\n",
    "\n",
    "2. Subtração:\n",
    "    2 - 2 = 0\n"
   ]
  },
  {
   "cell_type": "code",
   "execution_count": null,
   "metadata": {},
   "outputs": [
    {
     "ename": "",
     "evalue": "",
     "output_type": "error",
     "traceback": [
      "\u001b[1;31mRunning cells with 'c:\\Users\\lenovo\\AppData\\Local\\Programs\\Python\\Python311\\python.exe' requires the ipykernel package.\n",
      "\u001b[1;31mRun the following command to install 'ipykernel' into the Python environment. \n",
      "\u001b[1;31mCommand: 'c:/Users/lenovo/AppData/Local/Programs/Python/Python311/python.exe -m pip install ipykernel -U --user --force-reinstall'"
     ]
    }
   ],
   "source": [
    "# Multiplicação e Adição de Números\n",
    "N1 = 10\n",
    "N2 = 20\n",
    "\n",
    "# Multiplicação\n",
    "RM1 = N1 * N2\n",
    "\n",
    "# Adição\n",
    "    RA = N1 + N2\n",
    "\n",
    "# Exibindo os resultados\n",
    "print(f\"A multiplicação de {N1} por {N2} é: {RM1}\")\n",
    "print(f\"A adição de {N1} e {N2} é: {RA}\")\n"
   ]
  },
  {
   "cell_type": "code",
   "execution_count": null,
   "metadata": {},
   "outputs": [
    {
     "ename": "",
     "evalue": "",
     "output_type": "error",
     "traceback": [
      "\u001b[1;31mRunning cells with 'c:\\Users\\lenovo\\AppData\\Local\\Programs\\Python\\Python311\\python.exe' requires the ipykernel package.\n",
      "\u001b[1;31mRun the following command to install 'ipykernel' into the Python environment. \n",
      "\u001b[1;31mCommand: 'c:/Users/lenovo/AppData/Local/Programs/Python/Python311/python.exe -m pip install ipykernel -U --user --force-reinstall'"
     ]
    }
   ],
   "source": [
    "# Converter Minutos em Horas\n",
    "minutos = 150\n",
    "\n",
    "# Converter\n",
    "Converter= 1 / 60  # 1 hora = 60 minutos\n",
    "\n",
    "# Cálculo da Conversão\n",
    "horas = minutos * Converter\n",
    "\n",
    "# Exibindo o Resultado\n",
    "print(f\"{minutos} minutos é equivalente a {horas:.2f} horas\")\n"
   ]
  },
  {
   "cell_type": "markdown",
   "metadata": {},
   "source": [
    "# Objetivos do Projeto\n",
    "\n",
    "Neste projeto, buscamos alcançar os seguintes objetivos:\n",
    "\n",
    "1.Análise de Dados: Realizar uma análise exploratória do conjunto de dados para compreender suas características e padrões.\n",
    "\n",
    "2.Visualização de Dados: Utilizar ferramentas de visualização para representar graficamente os insights obtidos durante a análise.\n",
    "\n",
    "3.Modelagem Estatística: Aplicar técnicas estatísticas relevantes para identificar correlações e tendências nos dados.\n",
    "\n",
    "4.Apresentação de Resultados: Comunicar de forma clara e eficaz os resultados da análise, destacando informações valiosas.\n",
    "\n",
    "5.Colaboração: Fomentar a colaboração entre membros da equipe, permitindo a contribuição conjunta para o sucesso do projeto.\n",
    "\n",
    "Estes objetivos orientam nossas atividades e garantem que nossa abordagem seja abrangente e alinhada com as metas do projeto.\n"
   ]
  },
  {
   "cell_type": "markdown",
   "metadata": {},
   "source": [
    "# Autor\n",
    "\n",
    "Nome do Autor: Marcello Boca Junior\n",
    "\n",
    "Este projeto foi desenvolvido por Marcello Boca Junior, Qualquer dúvida ou comentário pode ser encaminhado para marceloboka145@gmail.com\n"
   ]
  },
  {
   "cell_type": "code",
   "execution_count": null,
   "metadata": {},
   "outputs": [
    {
     "ename": "",
     "evalue": "",
     "output_type": "error",
     "traceback": [
      "\u001b[1;31mRunning cells with 'c:\\Users\\lenovo\\AppData\\Local\\Programs\\Python\\Python311\\python.exe' requires the ipykernel package.\n",
      "\u001b[1;31mRun the following command to install 'ipykernel' into the Python environment. \n",
      "\u001b[1;31mCommand: 'c:/Users/lenovo/AppData/Local/Programs/Python/Python311/python.exe -m pip install ipykernel -U --user --force-reinstall'"
     ]
    }
   ],
   "source": []
  }
 ],
 "metadata": {
  "kernelspec": {
   "display_name": "Python 3",
   "language": "python",
   "name": "python3"
  },
  "language_info": {
   "codemirror_mode": {
    "name": "ipython",
    "version": 3
   },
   "file_extension": ".py",
   "mimetype": "text/x-python",
   "name": "python",
   "nbconvert_exporter": "python",
   "pygments_lexer": "ipython3",
   "version": "3.11.3"
  }
 },
 "nbformat": 4,
 "nbformat_minor": 4
}
